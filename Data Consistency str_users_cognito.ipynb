{
 "cells": [
  {
   "cell_type": "markdown",
   "metadata": {},
   "source": [
    "### Importing libraries"
   ]
  },
  {
   "cell_type": "code",
   "execution_count": 1,
   "metadata": {},
   "outputs": [],
   "source": [
    "import pandas as pd\n",
    "import numpy as np\n",
    "import psycopg2\n",
    "import snowflake.connector as sfc"
   ]
  },
  {
   "cell_type": "markdown",
   "metadata": {},
   "source": [
    "### Postgres setup"
   ]
  },
  {
   "cell_type": "code",
   "execution_count": 2,
   "metadata": {},
   "outputs": [],
   "source": [
    "pg_schema = 'com_zx_courier'\n",
    "pg_table = 'stg_users_cognito'\n",
    "\n",
    "pg_date_col = '\"UserCreateDate\"'\n",
    "pg_id_col = '\"Username\"'"
   ]
  },
  {
   "cell_type": "markdown",
   "metadata": {},
   "source": [
    "### Snowflake setup"
   ]
  },
  {
   "cell_type": "code",
   "execution_count": 3,
   "metadata": {},
   "outputs": [],
   "source": [
    "sf_schema = 'BR_ZE'\n",
    "sf_table = 'STR_USERS_COGNITO'\n",
    "\n",
    "sf_date_col = 'USERCREATEDATE'\n",
    "sf_id_col = 'USERNAME'"
   ]
  },
  {
   "cell_type": "markdown",
   "metadata": {},
   "source": [
    "### Postgres connection and query"
   ]
  },
  {
   "cell_type": "code",
   "execution_count": 4,
   "metadata": {},
   "outputs": [],
   "source": [
    "def gdw_query(query):\n",
    "    conn = psycopg2.connect(\n",
    "                    user='postgres',\n",
    "                    password='',\n",
    "                    host='localhost',\n",
    "                    port='5432',\n",
    "                    database='gdwprod')\n",
    "    try:\n",
    "        df = pd.read_sql_query(query, conn)\n",
    "        return df\n",
    "    finally:\n",
    "        conn.close()"
   ]
  },
  {
   "cell_type": "code",
   "execution_count": 21,
   "metadata": {},
   "outputs": [],
   "source": [
    "pg_query1 = '''select min({date_col}) first_entry,\\\n",
    "                    max({date_col}) last_entry,\\\n",
    "                    count(distinct {id_col}) num_id,\\\n",
    "                    count(*) num_entries\n",
    "                from {schema}.{table};'''.format(\n",
    "                                                schema=pg_schema, \n",
    "                                                table=pg_table,\n",
    "                                                date_col=pg_date_col,\n",
    "                                                id_col=pg_id_col)\n",
    "\n",
    "pg_query2 = '''select min({date_col}) first_entry,\\\n",
    "                    max({date_col}) last_entry,\\\n",
    "                    count(distinct {id_col}) num_id,\\\n",
    "                    count(*) num_entries\\\n",
    "            from {schema}.{table}\\\n",
    "            where date_trunc('month', date({date_col})) < date_trunc('month', date('2020-03-01'));'''.format(\n",
    "                                                                                            schema=pg_schema, \n",
    "                                                                                            table=pg_table,\n",
    "                                                                                            date_col=pg_date_col,\n",
    "                                                                                            id_col=pg_id_col)\n",
    "\n",
    "\n",
    "pg_query3 = '''select date_trunc('month', date({date_col})) which_month,\\\n",
    "                    count(distinct {id_col}) num_id,\\\n",
    "                    count(*) num_entries\\\n",
    "                from {schema}.{table} group by date_trunc('month', date({date_col})) \n",
    "                order by date_trunc('month', date({date_col}));'''.format(\n",
    "                                                                    schema=pg_schema, \n",
    "                                                                    table=pg_table,\n",
    "                                                                    date_col=pg_date_col,\n",
    "                                                                    id_col=pg_id_col)"
   ]
  },
  {
   "cell_type": "markdown",
   "metadata": {},
   "source": [
    "### Snowflake connection and query"
   ]
  },
  {
   "cell_type": "code",
   "execution_count": 6,
   "metadata": {},
   "outputs": [],
   "source": [
    "def snow_query(query):\n",
    "    conn = sfc.connect(\n",
    "                    user='',\n",
    "                    password='',\n",
    "                    account='zxventures.us-east-1',\n",
    "                    warehouse='WH_INTERACTIVE',\n",
    "                    database='OMNICHANNEL',)\n",
    "    try:\n",
    "        df = pd.read_sql_query(query, conn)\n",
    "        return df\n",
    "    finally:\n",
    "        conn.close()"
   ]
  },
  {
   "cell_type": "code",
   "execution_count": 22,
   "metadata": {},
   "outputs": [],
   "source": [
    "sf_query1 = '''select min({date_col}) first_entry,\\\n",
    "                    max({date_col}) last_entry,\\\n",
    "                    count(distinct {id_col}) num_id,\\\n",
    "                    count(*) num_entries\n",
    "                from {schema}.{table};'''.format(\n",
    "                                                schema=sf_schema, \n",
    "                                                table=sf_table,\n",
    "                                                date_col=sf_date_col,\n",
    "                                                id_col=sf_id_col)\n",
    "\n",
    "sf_query2 = '''select min({date_col}) first_entry,\\\n",
    "                    max({date_col}) last_entry,\\\n",
    "                    count(distinct {id_col}) num_id,\\\n",
    "                    count(*) num_entries\\\n",
    "            from {schema}.{table}\\\n",
    "            where date_trunc('month', date({date_col})) < date_trunc('month', date('2020-03-01'));'''.format(\n",
    "                                                                                            schema=sf_schema, \n",
    "                                                                                            table=sf_table,\n",
    "                                                                                            date_col=sf_date_col,\n",
    "                                                                                            id_col=sf_id_col)\n",
    "\n",
    "\n",
    "sf_query3 = '''select date_trunc('month', date({date_col})) which_month,\\\n",
    "                    count(distinct {id_col}) num_id,\\\n",
    "                    count(*) num_entries\\\n",
    "                from {schema}.{table} group by date_trunc('month', date({date_col}))\n",
    "                order by date_trunc('month', date({date_col}));'''.format(\n",
    "                                                                    schema=sf_schema, \n",
    "                                                                    table=sf_table,\n",
    "                                                                    date_col=sf_date_col,\n",
    "                                                                    id_col=sf_id_col)"
   ]
  },
  {
   "cell_type": "markdown",
   "metadata": {},
   "source": [
    "## Various overall metrics"
   ]
  },
  {
   "cell_type": "code",
   "execution_count": 23,
   "metadata": {},
   "outputs": [
    {
     "data": {
      "text/html": [
       "<div>\n",
       "<style scoped>\n",
       "    .dataframe tbody tr th:only-of-type {\n",
       "        vertical-align: middle;\n",
       "    }\n",
       "\n",
       "    .dataframe tbody tr th {\n",
       "        vertical-align: top;\n",
       "    }\n",
       "\n",
       "    .dataframe thead th {\n",
       "        text-align: right;\n",
       "    }\n",
       "</style>\n",
       "<table border=\"1\" class=\"dataframe\">\n",
       "  <thead>\n",
       "    <tr style=\"text-align: right;\">\n",
       "      <th></th>\n",
       "      <th>first_entry</th>\n",
       "      <th>last_entry</th>\n",
       "      <th>num_id</th>\n",
       "      <th>num_entries</th>\n",
       "    </tr>\n",
       "  </thead>\n",
       "  <tbody>\n",
       "    <tr>\n",
       "      <td>0</td>\n",
       "      <td>2017-06-20 18:26:45.284</td>\n",
       "      <td>2020-06-09 02:37:31.503</td>\n",
       "      <td>1045004</td>\n",
       "      <td>1045004</td>\n",
       "    </tr>\n",
       "  </tbody>\n",
       "</table>\n",
       "</div>"
      ],
      "text/plain": [
       "              first_entry              last_entry   num_id  num_entries\n",
       "0 2017-06-20 18:26:45.284 2020-06-09 02:37:31.503  1045004      1045004"
      ]
     },
     "execution_count": 23,
     "metadata": {},
     "output_type": "execute_result"
    }
   ],
   "source": [
    "pg1 = gdw_query(pg_query1)\n",
    "sf1 = snow_query(sf_query1)\n",
    "pg1"
   ]
  },
  {
   "cell_type": "code",
   "execution_count": 24,
   "metadata": {},
   "outputs": [
    {
     "data": {
      "text/html": [
       "<div>\n",
       "<style scoped>\n",
       "    .dataframe tbody tr th:only-of-type {\n",
       "        vertical-align: middle;\n",
       "    }\n",
       "\n",
       "    .dataframe tbody tr th {\n",
       "        vertical-align: top;\n",
       "    }\n",
       "\n",
       "    .dataframe thead th {\n",
       "        text-align: right;\n",
       "    }\n",
       "</style>\n",
       "<table border=\"1\" class=\"dataframe\">\n",
       "  <thead>\n",
       "    <tr style=\"text-align: right;\">\n",
       "      <th></th>\n",
       "      <th>FIRST_ENTRY</th>\n",
       "      <th>LAST_ENTRY</th>\n",
       "      <th>NUM_ID</th>\n",
       "      <th>NUM_ENTRIES</th>\n",
       "    </tr>\n",
       "  </thead>\n",
       "  <tbody>\n",
       "    <tr>\n",
       "      <td>0</td>\n",
       "      <td>2017-06-20 18:26:45.284</td>\n",
       "      <td>2020-05-11 02:06:17.684</td>\n",
       "      <td>819873</td>\n",
       "      <td>819873</td>\n",
       "    </tr>\n",
       "  </tbody>\n",
       "</table>\n",
       "</div>"
      ],
      "text/plain": [
       "              FIRST_ENTRY              LAST_ENTRY  NUM_ID  NUM_ENTRIES\n",
       "0 2017-06-20 18:26:45.284 2020-05-11 02:06:17.684  819873       819873"
      ]
     },
     "execution_count": 24,
     "metadata": {},
     "output_type": "execute_result"
    }
   ],
   "source": [
    "sf1"
   ]
  },
  {
   "cell_type": "code",
   "execution_count": 25,
   "metadata": {},
   "outputs": [
    {
     "data": {
      "text/html": [
       "<div>\n",
       "<style scoped>\n",
       "    .dataframe tbody tr th:only-of-type {\n",
       "        vertical-align: middle;\n",
       "    }\n",
       "\n",
       "    .dataframe tbody tr th {\n",
       "        vertical-align: top;\n",
       "    }\n",
       "\n",
       "    .dataframe thead th {\n",
       "        text-align: right;\n",
       "    }\n",
       "</style>\n",
       "<table border=\"1\" class=\"dataframe\">\n",
       "  <thead>\n",
       "    <tr style=\"text-align: right;\">\n",
       "      <th></th>\n",
       "      <th>Postgres</th>\n",
       "      <th>Snowflake</th>\n",
       "      <th>is_identical</th>\n",
       "    </tr>\n",
       "  </thead>\n",
       "  <tbody>\n",
       "    <tr>\n",
       "      <td>first_entry</td>\n",
       "      <td>2017-06-20 18:26:45.284000</td>\n",
       "      <td>2017-06-20 18:26:45.284000</td>\n",
       "      <td>True</td>\n",
       "    </tr>\n",
       "    <tr>\n",
       "      <td>last_entry</td>\n",
       "      <td>2020-06-09 02:37:31.503000</td>\n",
       "      <td>2020-05-11 02:06:17.684000</td>\n",
       "      <td>False</td>\n",
       "    </tr>\n",
       "    <tr>\n",
       "      <td>num_id</td>\n",
       "      <td>1045004</td>\n",
       "      <td>819873</td>\n",
       "      <td>False</td>\n",
       "    </tr>\n",
       "    <tr>\n",
       "      <td>num_entries</td>\n",
       "      <td>1045004</td>\n",
       "      <td>819873</td>\n",
       "      <td>False</td>\n",
       "    </tr>\n",
       "  </tbody>\n",
       "</table>\n",
       "</div>"
      ],
      "text/plain": [
       "                               Postgres                   Snowflake  \\\n",
       "first_entry  2017-06-20 18:26:45.284000  2017-06-20 18:26:45.284000   \n",
       "last_entry   2020-06-09 02:37:31.503000  2020-05-11 02:06:17.684000   \n",
       "num_id                          1045004                      819873   \n",
       "num_entries                     1045004                      819873   \n",
       "\n",
       "             is_identical  \n",
       "first_entry          True  \n",
       "last_entry          False  \n",
       "num_id              False  \n",
       "num_entries         False  "
      ]
     },
     "execution_count": 25,
     "metadata": {},
     "output_type": "execute_result"
    }
   ],
   "source": [
    "str_order_metrics = pd.DataFrame(columns=['Postgres', 'Snowflake', 'is_identical'], index=pg1.columns)\n",
    "str_order_metrics['Postgres'] = pg1.T.values\n",
    "str_order_metrics['Snowflake'] = sf1.T.values\n",
    "str_order_metrics['is_identical'] = str_order_metrics['Postgres'] == str_order_metrics['Snowflake']\n",
    "\n",
    "str_order_metrics"
   ]
  },
  {
   "cell_type": "markdown",
   "metadata": {},
   "source": [
    "## Various overall metrics - before March 2020"
   ]
  },
  {
   "cell_type": "code",
   "execution_count": 26,
   "metadata": {},
   "outputs": [
    {
     "data": {
      "text/html": [
       "<div>\n",
       "<style scoped>\n",
       "    .dataframe tbody tr th:only-of-type {\n",
       "        vertical-align: middle;\n",
       "    }\n",
       "\n",
       "    .dataframe tbody tr th {\n",
       "        vertical-align: top;\n",
       "    }\n",
       "\n",
       "    .dataframe thead th {\n",
       "        text-align: right;\n",
       "    }\n",
       "</style>\n",
       "<table border=\"1\" class=\"dataframe\">\n",
       "  <thead>\n",
       "    <tr style=\"text-align: right;\">\n",
       "      <th></th>\n",
       "      <th>first_entry</th>\n",
       "      <th>last_entry</th>\n",
       "      <th>num_id</th>\n",
       "      <th>num_entries</th>\n",
       "    </tr>\n",
       "  </thead>\n",
       "  <tbody>\n",
       "    <tr>\n",
       "      <td>0</td>\n",
       "      <td>2017-06-20 18:26:45.284</td>\n",
       "      <td>2020-02-29 23:59:53.696</td>\n",
       "      <td>510500</td>\n",
       "      <td>510500</td>\n",
       "    </tr>\n",
       "  </tbody>\n",
       "</table>\n",
       "</div>"
      ],
      "text/plain": [
       "              first_entry              last_entry  num_id  num_entries\n",
       "0 2017-06-20 18:26:45.284 2020-02-29 23:59:53.696  510500       510500"
      ]
     },
     "execution_count": 26,
     "metadata": {},
     "output_type": "execute_result"
    }
   ],
   "source": [
    "pg2 = gdw_query(pg_query2)\n",
    "sf2 = snow_query(sf_query2)\n",
    "pg2"
   ]
  },
  {
   "cell_type": "code",
   "execution_count": 27,
   "metadata": {},
   "outputs": [
    {
     "data": {
      "text/html": [
       "<div>\n",
       "<style scoped>\n",
       "    .dataframe tbody tr th:only-of-type {\n",
       "        vertical-align: middle;\n",
       "    }\n",
       "\n",
       "    .dataframe tbody tr th {\n",
       "        vertical-align: top;\n",
       "    }\n",
       "\n",
       "    .dataframe thead th {\n",
       "        text-align: right;\n",
       "    }\n",
       "</style>\n",
       "<table border=\"1\" class=\"dataframe\">\n",
       "  <thead>\n",
       "    <tr style=\"text-align: right;\">\n",
       "      <th></th>\n",
       "      <th>FIRST_ENTRY</th>\n",
       "      <th>LAST_ENTRY</th>\n",
       "      <th>NUM_ID</th>\n",
       "      <th>NUM_ENTRIES</th>\n",
       "    </tr>\n",
       "  </thead>\n",
       "  <tbody>\n",
       "    <tr>\n",
       "      <td>0</td>\n",
       "      <td>2017-06-20 18:26:45.284</td>\n",
       "      <td>2020-02-29 23:59:53.696</td>\n",
       "      <td>510500</td>\n",
       "      <td>510500</td>\n",
       "    </tr>\n",
       "  </tbody>\n",
       "</table>\n",
       "</div>"
      ],
      "text/plain": [
       "              FIRST_ENTRY              LAST_ENTRY  NUM_ID  NUM_ENTRIES\n",
       "0 2017-06-20 18:26:45.284 2020-02-29 23:59:53.696  510500       510500"
      ]
     },
     "execution_count": 27,
     "metadata": {},
     "output_type": "execute_result"
    }
   ],
   "source": [
    "sf2"
   ]
  },
  {
   "cell_type": "code",
   "execution_count": 28,
   "metadata": {},
   "outputs": [
    {
     "data": {
      "text/html": [
       "<div>\n",
       "<style scoped>\n",
       "    .dataframe tbody tr th:only-of-type {\n",
       "        vertical-align: middle;\n",
       "    }\n",
       "\n",
       "    .dataframe tbody tr th {\n",
       "        vertical-align: top;\n",
       "    }\n",
       "\n",
       "    .dataframe thead th {\n",
       "        text-align: right;\n",
       "    }\n",
       "</style>\n",
       "<table border=\"1\" class=\"dataframe\">\n",
       "  <thead>\n",
       "    <tr style=\"text-align: right;\">\n",
       "      <th></th>\n",
       "      <th>Postgres</th>\n",
       "      <th>Snowflake</th>\n",
       "      <th>is_identical</th>\n",
       "    </tr>\n",
       "  </thead>\n",
       "  <tbody>\n",
       "    <tr>\n",
       "      <td>first_entry</td>\n",
       "      <td>2017-06-20 18:26:45.284000</td>\n",
       "      <td>2017-06-20 18:26:45.284000</td>\n",
       "      <td>True</td>\n",
       "    </tr>\n",
       "    <tr>\n",
       "      <td>last_entry</td>\n",
       "      <td>2020-02-29 23:59:53.696000</td>\n",
       "      <td>2020-02-29 23:59:53.696000</td>\n",
       "      <td>True</td>\n",
       "    </tr>\n",
       "    <tr>\n",
       "      <td>num_id</td>\n",
       "      <td>510500</td>\n",
       "      <td>510500</td>\n",
       "      <td>True</td>\n",
       "    </tr>\n",
       "    <tr>\n",
       "      <td>num_entries</td>\n",
       "      <td>510500</td>\n",
       "      <td>510500</td>\n",
       "      <td>True</td>\n",
       "    </tr>\n",
       "  </tbody>\n",
       "</table>\n",
       "</div>"
      ],
      "text/plain": [
       "                               Postgres                   Snowflake  \\\n",
       "first_entry  2017-06-20 18:26:45.284000  2017-06-20 18:26:45.284000   \n",
       "last_entry   2020-02-29 23:59:53.696000  2020-02-29 23:59:53.696000   \n",
       "num_id                           510500                      510500   \n",
       "num_entries                      510500                      510500   \n",
       "\n",
       "             is_identical  \n",
       "first_entry          True  \n",
       "last_entry           True  \n",
       "num_id               True  \n",
       "num_entries          True  "
      ]
     },
     "execution_count": 28,
     "metadata": {},
     "output_type": "execute_result"
    }
   ],
   "source": [
    "str_order_metrics = pd.DataFrame(columns=['Postgres', 'Snowflake', 'is_identical'], index=pg1.columns)\n",
    "str_order_metrics['Postgres'] = pg2.T.values\n",
    "str_order_metrics['Snowflake'] = sf2.T.values\n",
    "str_order_metrics['is_identical'] = str_order_metrics['Postgres'] == str_order_metrics['Snowflake']\n",
    "\n",
    "str_order_metrics"
   ]
  },
  {
   "cell_type": "markdown",
   "metadata": {},
   "source": [
    "## Month-wise number of orders"
   ]
  },
  {
   "cell_type": "code",
   "execution_count": 29,
   "metadata": {},
   "outputs": [
    {
     "data": {
      "text/html": [
       "<div>\n",
       "<style scoped>\n",
       "    .dataframe tbody tr th:only-of-type {\n",
       "        vertical-align: middle;\n",
       "    }\n",
       "\n",
       "    .dataframe tbody tr th {\n",
       "        vertical-align: top;\n",
       "    }\n",
       "\n",
       "    .dataframe thead th {\n",
       "        text-align: right;\n",
       "    }\n",
       "</style>\n",
       "<table border=\"1\" class=\"dataframe\">\n",
       "  <thead>\n",
       "    <tr style=\"text-align: right;\">\n",
       "      <th></th>\n",
       "      <th>which_month</th>\n",
       "      <th>num_id</th>\n",
       "      <th>num_entries</th>\n",
       "    </tr>\n",
       "    <tr>\n",
       "      <th>which_month</th>\n",
       "      <th></th>\n",
       "      <th></th>\n",
       "      <th></th>\n",
       "    </tr>\n",
       "  </thead>\n",
       "  <tbody>\n",
       "    <tr>\n",
       "      <td>2017-06-01 00:00:00+00:00</td>\n",
       "      <td>2017-06-01 00:00:00+00:00</td>\n",
       "      <td>143</td>\n",
       "      <td>143</td>\n",
       "    </tr>\n",
       "    <tr>\n",
       "      <td>2017-07-01 00:00:00+00:00</td>\n",
       "      <td>2017-07-01 00:00:00+00:00</td>\n",
       "      <td>4670</td>\n",
       "      <td>4670</td>\n",
       "    </tr>\n",
       "    <tr>\n",
       "      <td>2017-08-01 00:00:00+00:00</td>\n",
       "      <td>2017-08-01 00:00:00+00:00</td>\n",
       "      <td>5346</td>\n",
       "      <td>5346</td>\n",
       "    </tr>\n",
       "    <tr>\n",
       "      <td>2017-09-01 00:00:00+00:00</td>\n",
       "      <td>2017-09-01 00:00:00+00:00</td>\n",
       "      <td>7200</td>\n",
       "      <td>7200</td>\n",
       "    </tr>\n",
       "    <tr>\n",
       "      <td>2017-10-01 00:00:00+00:00</td>\n",
       "      <td>2017-10-01 00:00:00+00:00</td>\n",
       "      <td>4608</td>\n",
       "      <td>4608</td>\n",
       "    </tr>\n",
       "  </tbody>\n",
       "</table>\n",
       "</div>"
      ],
      "text/plain": [
       "                                        which_month  num_id  num_entries\n",
       "which_month                                                             \n",
       "2017-06-01 00:00:00+00:00 2017-06-01 00:00:00+00:00     143          143\n",
       "2017-07-01 00:00:00+00:00 2017-07-01 00:00:00+00:00    4670         4670\n",
       "2017-08-01 00:00:00+00:00 2017-08-01 00:00:00+00:00    5346         5346\n",
       "2017-09-01 00:00:00+00:00 2017-09-01 00:00:00+00:00    7200         7200\n",
       "2017-10-01 00:00:00+00:00 2017-10-01 00:00:00+00:00    4608         4608"
      ]
     },
     "execution_count": 29,
     "metadata": {},
     "output_type": "execute_result"
    }
   ],
   "source": [
    "pg3 = gdw_query(pg_query3)\n",
    "pg3.index = pd.to_datetime(pg3.which_month)\n",
    "pg3.head()"
   ]
  },
  {
   "cell_type": "code",
   "execution_count": 30,
   "metadata": {},
   "outputs": [
    {
     "data": {
      "text/html": [
       "<div>\n",
       "<style scoped>\n",
       "    .dataframe tbody tr th:only-of-type {\n",
       "        vertical-align: middle;\n",
       "    }\n",
       "\n",
       "    .dataframe tbody tr th {\n",
       "        vertical-align: top;\n",
       "    }\n",
       "\n",
       "    .dataframe thead th {\n",
       "        text-align: right;\n",
       "    }\n",
       "</style>\n",
       "<table border=\"1\" class=\"dataframe\">\n",
       "  <thead>\n",
       "    <tr style=\"text-align: right;\">\n",
       "      <th></th>\n",
       "      <th>WHICH_MONTH</th>\n",
       "      <th>NUM_ID</th>\n",
       "      <th>NUM_ENTRIES</th>\n",
       "    </tr>\n",
       "    <tr>\n",
       "      <th>WHICH_MONTH</th>\n",
       "      <th></th>\n",
       "      <th></th>\n",
       "      <th></th>\n",
       "    </tr>\n",
       "  </thead>\n",
       "  <tbody>\n",
       "    <tr>\n",
       "      <td>2017-06-01 00:00:00+00:00</td>\n",
       "      <td>2017-06-01</td>\n",
       "      <td>143</td>\n",
       "      <td>143</td>\n",
       "    </tr>\n",
       "    <tr>\n",
       "      <td>2017-07-01 00:00:00+00:00</td>\n",
       "      <td>2017-07-01</td>\n",
       "      <td>4670</td>\n",
       "      <td>4670</td>\n",
       "    </tr>\n",
       "    <tr>\n",
       "      <td>2017-08-01 00:00:00+00:00</td>\n",
       "      <td>2017-08-01</td>\n",
       "      <td>5346</td>\n",
       "      <td>5346</td>\n",
       "    </tr>\n",
       "    <tr>\n",
       "      <td>2017-09-01 00:00:00+00:00</td>\n",
       "      <td>2017-09-01</td>\n",
       "      <td>7200</td>\n",
       "      <td>7200</td>\n",
       "    </tr>\n",
       "    <tr>\n",
       "      <td>2017-10-01 00:00:00+00:00</td>\n",
       "      <td>2017-10-01</td>\n",
       "      <td>4608</td>\n",
       "      <td>4608</td>\n",
       "    </tr>\n",
       "  </tbody>\n",
       "</table>\n",
       "</div>"
      ],
      "text/plain": [
       "                          WHICH_MONTH  NUM_ID  NUM_ENTRIES\n",
       "WHICH_MONTH                                               \n",
       "2017-06-01 00:00:00+00:00  2017-06-01     143          143\n",
       "2017-07-01 00:00:00+00:00  2017-07-01    4670         4670\n",
       "2017-08-01 00:00:00+00:00  2017-08-01    5346         5346\n",
       "2017-09-01 00:00:00+00:00  2017-09-01    7200         7200\n",
       "2017-10-01 00:00:00+00:00  2017-10-01    4608         4608"
      ]
     },
     "execution_count": 30,
     "metadata": {},
     "output_type": "execute_result"
    }
   ],
   "source": [
    "sf3 = snow_query(sf_query3)\n",
    "sf3.index = pd.to_datetime(sf3['WHICH_MONTH'], utc=True)\n",
    "sf3.head()"
   ]
  },
  {
   "cell_type": "code",
   "execution_count": 31,
   "metadata": {},
   "outputs": [
    {
     "data": {
      "text/html": [
       "<div>\n",
       "<style scoped>\n",
       "    .dataframe tbody tr th:only-of-type {\n",
       "        vertical-align: middle;\n",
       "    }\n",
       "\n",
       "    .dataframe tbody tr th {\n",
       "        vertical-align: top;\n",
       "    }\n",
       "\n",
       "    .dataframe thead th {\n",
       "        text-align: right;\n",
       "    }\n",
       "</style>\n",
       "<table border=\"1\" class=\"dataframe\">\n",
       "  <thead>\n",
       "    <tr style=\"text-align: right;\">\n",
       "      <th></th>\n",
       "      <th>Postgres</th>\n",
       "      <th>Snowflake</th>\n",
       "      <th>is_identical</th>\n",
       "    </tr>\n",
       "    <tr>\n",
       "      <th>Month</th>\n",
       "      <th></th>\n",
       "      <th></th>\n",
       "      <th></th>\n",
       "    </tr>\n",
       "  </thead>\n",
       "  <tbody>\n",
       "    <tr>\n",
       "      <td>2017-06-01 00:00:00+00:00</td>\n",
       "      <td>143</td>\n",
       "      <td>143.0</td>\n",
       "      <td>True</td>\n",
       "    </tr>\n",
       "    <tr>\n",
       "      <td>2017-07-01 00:00:00+00:00</td>\n",
       "      <td>4670</td>\n",
       "      <td>4670.0</td>\n",
       "      <td>True</td>\n",
       "    </tr>\n",
       "    <tr>\n",
       "      <td>2017-08-01 00:00:00+00:00</td>\n",
       "      <td>5346</td>\n",
       "      <td>5346.0</td>\n",
       "      <td>True</td>\n",
       "    </tr>\n",
       "    <tr>\n",
       "      <td>2017-09-01 00:00:00+00:00</td>\n",
       "      <td>7200</td>\n",
       "      <td>7200.0</td>\n",
       "      <td>True</td>\n",
       "    </tr>\n",
       "    <tr>\n",
       "      <td>2017-10-01 00:00:00+00:00</td>\n",
       "      <td>4608</td>\n",
       "      <td>4608.0</td>\n",
       "      <td>True</td>\n",
       "    </tr>\n",
       "  </tbody>\n",
       "</table>\n",
       "</div>"
      ],
      "text/plain": [
       "                           Postgres  Snowflake  is_identical\n",
       "Month                                                       \n",
       "2017-06-01 00:00:00+00:00       143      143.0          True\n",
       "2017-07-01 00:00:00+00:00      4670     4670.0          True\n",
       "2017-08-01 00:00:00+00:00      5346     5346.0          True\n",
       "2017-09-01 00:00:00+00:00      7200     7200.0          True\n",
       "2017-10-01 00:00:00+00:00      4608     4608.0          True"
      ]
     },
     "execution_count": 31,
     "metadata": {},
     "output_type": "execute_result"
    }
   ],
   "source": [
    "str_order_monthwise= pd.DataFrame(columns=['Postgres', 'Snowflake', 'is_identical'], index=pg3.index)\n",
    "str_order_monthwise.index.name = 'Month'\n",
    "str_order_monthwise['Postgres'] = pg3['num_entries']\n",
    "str_order_monthwise['Snowflake'] = sf3['NUM_ENTRIES']\n",
    "str_order_monthwise['is_identical'] = str_order_monthwise.Postgres == str_order_monthwise.Snowflake\n",
    "\n",
    "str_order_monthwise.head()"
   ]
  },
  {
   "cell_type": "code",
   "execution_count": 32,
   "metadata": {},
   "outputs": [
    {
     "data": {
      "text/html": [
       "<div>\n",
       "<style scoped>\n",
       "    .dataframe tbody tr th:only-of-type {\n",
       "        vertical-align: middle;\n",
       "    }\n",
       "\n",
       "    .dataframe tbody tr th {\n",
       "        vertical-align: top;\n",
       "    }\n",
       "\n",
       "    .dataframe thead th {\n",
       "        text-align: right;\n",
       "    }\n",
       "</style>\n",
       "<table border=\"1\" class=\"dataframe\">\n",
       "  <thead>\n",
       "    <tr style=\"text-align: right;\">\n",
       "      <th></th>\n",
       "      <th>Postgres</th>\n",
       "      <th>Snowflake</th>\n",
       "      <th>is_identical</th>\n",
       "    </tr>\n",
       "    <tr>\n",
       "      <th>Month</th>\n",
       "      <th></th>\n",
       "      <th></th>\n",
       "      <th></th>\n",
       "    </tr>\n",
       "  </thead>\n",
       "  <tbody>\n",
       "    <tr>\n",
       "      <td>2020-05-01 00:00:00+00:00</td>\n",
       "      <td>226343</td>\n",
       "      <td>61620.0</td>\n",
       "      <td>False</td>\n",
       "    </tr>\n",
       "    <tr>\n",
       "      <td>2020-06-01 00:00:00+00:00</td>\n",
       "      <td>60408</td>\n",
       "      <td>NaN</td>\n",
       "      <td>False</td>\n",
       "    </tr>\n",
       "  </tbody>\n",
       "</table>\n",
       "</div>"
      ],
      "text/plain": [
       "                           Postgres  Snowflake  is_identical\n",
       "Month                                                       \n",
       "2020-05-01 00:00:00+00:00    226343    61620.0         False\n",
       "2020-06-01 00:00:00+00:00     60408        NaN         False"
      ]
     },
     "execution_count": 32,
     "metadata": {},
     "output_type": "execute_result"
    }
   ],
   "source": [
    "str_order_monthwise[str_order_monthwise['is_identical']!= True]"
   ]
  }
 ],
 "metadata": {
  "kernelspec": {
   "display_name": "Python 3",
   "language": "python",
   "name": "python3"
  },
  "language_info": {
   "codemirror_mode": {
    "name": "ipython",
    "version": 3
   },
   "file_extension": ".py",
   "mimetype": "text/x-python",
   "name": "python",
   "nbconvert_exporter": "python",
   "pygments_lexer": "ipython3",
   "version": "3.7.4"
  }
 },
 "nbformat": 4,
 "nbformat_minor": 4
}
