{
 "cells": [
  {
   "cell_type": "markdown",
   "metadata": {},
   "source": [
    "### Importing libraries and data"
   ]
  },
  {
   "cell_type": "code",
   "execution_count": 1,
   "metadata": {},
   "outputs": [],
   "source": [
    "import pandas as pd\n",
    "import numpy as np\n",
    "import psycopg2\n",
    "import snowflake.connector as sfc"
   ]
  },
  {
   "cell_type": "code",
   "execution_count": 2,
   "metadata": {},
   "outputs": [],
   "source": [
    "query_request = pd.read_csv('DQ_format.csv')\n",
    "pg_cols = query_request['GDW'].values.tolist()\n",
    "sf_cols = query_request['Snowflake'].values.tolist()\n",
    "data_list = []\n",
    "\n",
    "for i in range(len(pg_cols)):    \n",
    "    attrib_cols = query_request.iloc[i,2:].notna()\n",
    "    attribs = attrib_cols[attrib_cols == True].index.tolist()\n",
    "    for a in attribs:\n",
    "        pg_col = a + '(' + pg_cols[i] + ')'\n",
    "        sf_col = a + '(' + sf_cols[i] + ')'\n",
    "        prefix_col = a + '_'\n",
    "        col_name = sf_cols[i]\n",
    "        data = [pg_col, sf_col, prefix_col, col_name]\n",
    "        data_list += [data]\n",
    "    \n",
    "query_cols = pd.DataFrame(data_list, columns = ['Snowflake', 'GDW', 'Out_Prefix', 'col_name'])"
   ]
  },
  {
   "cell_type": "markdown",
   "metadata": {},
   "source": [
    "### Postgres setup"
   ]
  },
  {
   "cell_type": "code",
   "execution_count": 3,
   "metadata": {},
   "outputs": [],
   "source": [
    "pg_schema = 'com_zx_courier'\n",
    "pg_table = 'stg_order'\n",
    "pg_date_col = 'created_date'\n",
    "pg_start_date = '2019-06-01'\n",
    "pg_end_date = '2020-06-18'\n",
    "pg_group_period = 'month'\n",
    "\n",
    "pg_cols = query_cols['GDW'].values.tolist()"
   ]
  },
  {
   "cell_type": "markdown",
   "metadata": {},
   "source": [
    "### Snowflake setup"
   ]
  },
  {
   "cell_type": "code",
   "execution_count": 4,
   "metadata": {},
   "outputs": [],
   "source": [
    "sf_schema = 'BR_ZE'\n",
    "sf_table = 'STR_ORDER'\n",
    "sf_date_col = 'created_date'\n",
    "sf_start_date = '2019-06-01'\n",
    "sf_end_date = '2020-06-18'\n",
    "sf_group_period = 'month'\n",
    "\n",
    "sf_cols = query_cols['Snowflake'].values.tolist()"
   ]
  },
  {
   "cell_type": "markdown",
   "metadata": {},
   "source": [
    "### Output Table setup"
   ]
  },
  {
   "cell_type": "code",
   "execution_count": 5,
   "metadata": {},
   "outputs": [],
   "source": [
    "out_cols_prefix = query_cols['Out_Prefix'].values.tolist()\n",
    "col_names = query_cols['col_name'].values.tolist()"
   ]
  },
  {
   "cell_type": "markdown",
   "metadata": {},
   "source": [
    "### Postgres connection and query"
   ]
  },
  {
   "cell_type": "code",
   "execution_count": 6,
   "metadata": {},
   "outputs": [],
   "source": [
    "def gdw_query(query):\n",
    "    conn = psycopg2.connect(\n",
    "                    user='postgres',\n",
    "                    password='',\n",
    "                    host='localhost',\n",
    "                    port='5432',\n",
    "                    database='gdwprod')\n",
    "    try:\n",
    "        df = pd.read_sql_query(query, conn)\n",
    "        return df\n",
    "    finally:\n",
    "        conn.close()"
   ]
  },
  {
   "cell_type": "code",
   "execution_count": 7,
   "metadata": {},
   "outputs": [],
   "source": [
    "query = '''select '''\n",
    "for i in range(len(pg_cols)):\n",
    "    sub_query = '''{query_col}'''.format(query_col = pg_cols[i]) + \\\n",
    "                ''' {out_prefix}{col_name}'''.format(col_name = col_names[i], out_prefix=out_cols_prefix[i]) + ''', '''\n",
    "    query += sub_query\n",
    "\n",
    "query += '''count(*) num_entries'''\n",
    "query += ''' from {schema}.{table} '''.format(schema=pg_schema, table=pg_table)\n",
    "metrics_query_pg = query + '''where date({date_col}) > '{start_date}' and date({date_col}) < '{end_date}';'''\\\n",
    "                                                                                        .format(date_col = pg_date_col, \n",
    "                                                                                          start_date = pg_start_date, \n",
    "                                                                                          end_date = pg_end_date)"
   ]
  },
  {
   "cell_type": "code",
   "execution_count": 8,
   "metadata": {},
   "outputs": [],
   "source": [
    "query = '''select date_trunc('{period}', {date_col}) group_col, '''.format(period = pg_group_period,\n",
    "                                                                     date_col = pg_date_col)\n",
    "for i in range(len(pg_cols)):\n",
    "    sub_query = '''{query_col}'''.format(query_col = pg_cols[i]) + \\\n",
    "                ''' {out_prefix}{col_name}'''.format(col_name = col_names[i], out_prefix=out_cols_prefix[i]) + ''', '''\n",
    "    query += sub_query\n",
    "\n",
    "query += '''count(*) num_entries'''\n",
    "query += ''' from {schema}.{table} '''.format(schema=pg_schema, table=pg_table)\n",
    "group_query_pg = query + '''group by date_trunc('{period}', {date_col});'''.format(period = pg_group_period,\n",
    "                                                                             date_col = pg_date_col)"
   ]
  },
  {
   "cell_type": "markdown",
   "metadata": {},
   "source": [
    "### Snowflake connection and query"
   ]
  },
  {
   "cell_type": "code",
   "execution_count": 9,
   "metadata": {},
   "outputs": [],
   "source": [
    "def snow_query(query):\n",
    "    conn = sfc.connect(\n",
    "                    user='sbhardwaj',\n",
    "                    password='',\n",
    "                    account='zxventures.us-east-1',\n",
    "                    warehouse='WH_INTERACTIVE',\n",
    "                    database='OMNICHANNEL',)\n",
    "    try:\n",
    "        df = pd.read_sql_query(query, conn)\n",
    "        return df\n",
    "    finally:\n",
    "        conn.close()"
   ]
  },
  {
   "cell_type": "code",
   "execution_count": 10,
   "metadata": {},
   "outputs": [],
   "source": [
    "query = '''select '''\n",
    "for i in range(len(sf_cols)):\n",
    "    sub_query = '''{query_col}'''.format(query_col = sf_cols[i]) + \\\n",
    "                ''' {out_prefix}{col_name}'''.format(col_name = col_names[i], out_prefix=out_cols_prefix[i]) + ''', '''\n",
    "    query += sub_query\n",
    "\n",
    "query += '''count(*) num_entries'''\n",
    "query += ''' from {schema}.{table} '''.format(schema=sf_schema, table=sf_table)\n",
    "metrics_query_sf = query + '''where date({date_col}) > '{start_date}' and date({date_col}) < '{end_date}';'''\\\n",
    "                                                                                        .format(date_col = sf_date_col, \n",
    "                                                                                          start_date = sf_start_date, \n",
    "                                                                                          end_date = sf_end_date)"
   ]
  },
  {
   "cell_type": "code",
   "execution_count": 11,
   "metadata": {},
   "outputs": [],
   "source": [
    "query = '''select date_trunc('{period}', {date_col}) group_col, '''.format(period = sf_group_period,\n",
    "                                                                     date_col = sf_date_col)\n",
    "for i in range(len(sf_cols)):\n",
    "    sub_query = '''{query_col}'''.format(query_col = sf_cols[i]) + \\\n",
    "                ''' {out_prefix}{col_name}'''.format(col_name = col_names[i], out_prefix=out_cols_prefix[i]) + ''', '''\n",
    "    query += sub_query\n",
    "\n",
    "query += '''count(*) num_entries'''\n",
    "query += ''' from {schema}.{table} '''.format(schema=sf_schema, table=sf_table)\n",
    "group_query_sf = query + '''group by date_trunc('{period}', {date_col});'''.format(period = sf_group_period,\n",
    "                                                                             date_col = sf_date_col)"
   ]
  },
  {
   "cell_type": "markdown",
   "metadata": {},
   "source": [
    "## Various overall metrics"
   ]
  },
  {
   "cell_type": "code",
   "execution_count": 12,
   "metadata": {},
   "outputs": [],
   "source": [
    "pg1 = gdw_query(metrics_query_pg)\n",
    "sf1 = snow_query(metrics_query_sf)\n",
    "sf1.columns = sf1.columns.map(lambda x: x.lower())"
   ]
  },
  {
   "cell_type": "code",
   "execution_count": 17,
   "metadata": {},
   "outputs": [],
   "source": [
    "str_order_metrics = pd.DataFrame(columns=['Postgres', 'Snowflake', 'is_identical'])\n",
    "str_order_metrics['Postgres'] = pg1.T[0].values\n",
    "str_order_metrics['Snowflake'] = sf1.T[0].values\n",
    "str_order_metrics.index = sf1.columns.values\n",
    "str_order_metrics['is_identical'] = str_order_metrics['Postgres'] == str_order_metrics['Snowflake']\n",
    "\n",
    "str_order_metrics.to_csv('metrics_{table_name}.csv'.format(table_name = sf_table))"
   ]
  },
  {
   "cell_type": "markdown",
   "metadata": {},
   "source": [
    "## Group-wise metrics"
   ]
  },
  {
   "cell_type": "code",
   "execution_count": 18,
   "metadata": {},
   "outputs": [],
   "source": [
    "pg3 = gdw_query(group_query_pg)\n",
    "pg3.index = pd.to_datetime(pg3.group_col)"
   ]
  },
  {
   "cell_type": "code",
   "execution_count": 19,
   "metadata": {},
   "outputs": [],
   "source": [
    "sf3 = snow_query(group_query_sf)\n",
    "sf3.columns = sf3.columns.map(lambda x: x.lower())\n",
    "sf3.index = pd.to_datetime(sf3['group_col'])"
   ]
  },
  {
   "cell_type": "code",
   "execution_count": 20,
   "metadata": {},
   "outputs": [],
   "source": [
    "str_order_monthwise= pd.DataFrame(columns=['Postgres', 'Snowflake', 'is_identical'], index=pg3.index)\n",
    "str_order_monthwise.index.name = 'Month'\n",
    "str_order_monthwise['Postgres'] = pg3['num_entries'].values\n",
    "str_order_monthwise['Snowflake'] = sf3['num_entries'].values\n",
    "str_order_monthwise['has_identical_entries'] = str_order_monthwise.Postgres == str_order_monthwise.Snowflake"
   ]
  },
  {
   "cell_type": "code",
   "execution_count": 21,
   "metadata": {},
   "outputs": [],
   "source": [
    "str_order_monthwise.to_csv('grouped_metrics_{table_name}.csv'.format(table_name=sf_table))"
   ]
  },
  {
   "cell_type": "code",
   "execution_count": null,
   "metadata": {},
   "outputs": [],
   "source": []
  }
 ],
 "metadata": {
  "kernelspec": {
   "display_name": "Python 3",
   "language": "python",
   "name": "python3"
  },
  "language_info": {
   "codemirror_mode": {
    "name": "ipython",
    "version": 3
   },
   "file_extension": ".py",
   "mimetype": "text/x-python",
   "name": "python",
   "nbconvert_exporter": "python",
   "pygments_lexer": "ipython3",
   "version": "3.7.4"
  }
 },
 "nbformat": 4,
 "nbformat_minor": 4
}
