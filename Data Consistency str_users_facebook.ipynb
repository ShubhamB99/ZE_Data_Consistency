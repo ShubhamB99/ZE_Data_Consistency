{
 "cells": [
  {
   "cell_type": "markdown",
   "metadata": {},
   "source": [
    "### Importing libraries"
   ]
  },
  {
   "cell_type": "code",
   "execution_count": 1,
   "metadata": {},
   "outputs": [],
   "source": [
    "import pandas as pd\n",
    "import numpy as np\n",
    "import psycopg2\n",
    "import snowflake.connector as sfc"
   ]
  },
  {
   "cell_type": "markdown",
   "metadata": {},
   "source": [
    "### Postgres setup"
   ]
  },
  {
   "cell_type": "code",
   "execution_count": 2,
   "metadata": {},
   "outputs": [],
   "source": [
    "pg_schema = 'com_zx_courier'\n",
    "pg_table = 'stg_users_facebook'\n",
    "\n",
    "pg_date_col = 'create_date'"
   ]
  },
  {
   "cell_type": "markdown",
   "metadata": {},
   "source": [
    "### Snowflake setup"
   ]
  },
  {
   "cell_type": "code",
   "execution_count": 3,
   "metadata": {},
   "outputs": [],
   "source": [
    "sf_schema = 'BR_ZE'\n",
    "sf_table = 'STR_USERS_FACEBOOK'\n",
    "\n",
    "sf_date_col = 'create_date'"
   ]
  },
  {
   "cell_type": "markdown",
   "metadata": {},
   "source": [
    "### Postgres connection and query"
   ]
  },
  {
   "cell_type": "code",
   "execution_count": 4,
   "metadata": {},
   "outputs": [],
   "source": [
    "def gdw_query(query):\n",
    "    conn = psycopg2.connect(\n",
    "                    user='postgres',\n",
    "                    password='',\n",
    "                    host='localhost',\n",
    "                    port='5432',\n",
    "                    database='gdwprod')\n",
    "    try:\n",
    "        df = pd.read_sql_query(query, conn)\n",
    "        return df\n",
    "    finally:\n",
    "        conn.close()"
   ]
  },
  {
   "cell_type": "code",
   "execution_count": 5,
   "metadata": {},
   "outputs": [],
   "source": [
    "pg_query1 = '''select min({date_col}) first_entry,\\\n",
    "                    max({date_col}) last_entry,\\\n",
    "                    count(*) num_entries\n",
    "                from {schema}.{table};'''.format(\n",
    "                                                schema=pg_schema, \n",
    "                                                table=pg_table,\n",
    "                                                date_col=pg_date_col)\n",
    "\n",
    "pg_query2 = '''select min({date_col}) first_entry,\\\n",
    "                    max({date_col}) last_entry,\\\n",
    "                    count(*) num_entries\\\n",
    "            from {schema}.{table}\\\n",
    "            where date_trunc('month', date({date_col})) < date_trunc('month', date('2020-03-01'));'''.format(\n",
    "                                                                                            schema=pg_schema, \n",
    "                                                                                            table=pg_table,\n",
    "                                                                                            date_col=pg_date_col)\n",
    "\n",
    "\n",
    "pg_query3 = '''select date_trunc('month', date({date_col})) which_month,\\\n",
    "                    count(*) num_entries\\\n",
    "                from {schema}.{table} group by date_trunc('month', date({date_col})) \n",
    "                order by date_trunc('month', date({date_col}));'''.format(\n",
    "                                                                    schema=pg_schema, \n",
    "                                                                    table=pg_table,\n",
    "                                                                    date_col=pg_date_col)"
   ]
  },
  {
   "cell_type": "markdown",
   "metadata": {},
   "source": [
    "### Snowflake connection and query"
   ]
  },
  {
   "cell_type": "code",
   "execution_count": 6,
   "metadata": {},
   "outputs": [],
   "source": [
    "def snow_query(query):\n",
    "    conn = sfc.connect(\n",
    "                    user='',\n",
    "                    password='',\n",
    "                    account='zxventures.us-east-1',\n",
    "                    warehouse='WH_INTERACTIVE',\n",
    "                    database='OMNICHANNEL',)\n",
    "    try:\n",
    "        df = pd.read_sql_query(query, conn)\n",
    "        return df\n",
    "    finally:\n",
    "        conn.close()"
   ]
  },
  {
   "cell_type": "code",
   "execution_count": 7,
   "metadata": {},
   "outputs": [],
   "source": [
    "sf_query1 = '''select min({date_col}) first_entry,\\\n",
    "                    max({date_col}) last_entry,\\\n",
    "                    count(*) num_entries\n",
    "                from {schema}.{table};'''.format(\n",
    "                                                schema=sf_schema, \n",
    "                                                table=sf_table,\n",
    "                                                date_col=sf_date_col)\n",
    "\n",
    "sf_query2 = '''select min({date_col}) first_entry,\\\n",
    "                    max({date_col}) last_entry,\\\n",
    "                    count(*) num_entries\\\n",
    "            from {schema}.{table}\\\n",
    "            where date_trunc('month', date({date_col})) < date_trunc('month', date('2020-03-01'));'''.format(\n",
    "                                                                                            schema=sf_schema, \n",
    "                                                                                            table=sf_table,\n",
    "                                                                                            date_col=sf_date_col)\n",
    "\n",
    "\n",
    "sf_query3 = '''select date_trunc('month', date({date_col})) which_month,\\\n",
    "                    count(*) num_entries\\\n",
    "                from {schema}.{table} group by date_trunc('month', date({date_col}))\n",
    "                order by date_trunc('month', date({date_col}));'''.format(\n",
    "                                                                    schema=sf_schema, \n",
    "                                                                    table=sf_table,\n",
    "                                                                    date_col=sf_date_col)"
   ]
  },
  {
   "cell_type": "markdown",
   "metadata": {},
   "source": [
    "## Various overall metrics"
   ]
  },
  {
   "cell_type": "code",
   "execution_count": 8,
   "metadata": {},
   "outputs": [
    {
     "data": {
      "text/html": [
       "<div>\n",
       "<style scoped>\n",
       "    .dataframe tbody tr th:only-of-type {\n",
       "        vertical-align: middle;\n",
       "    }\n",
       "\n",
       "    .dataframe tbody tr th {\n",
       "        vertical-align: top;\n",
       "    }\n",
       "\n",
       "    .dataframe thead th {\n",
       "        text-align: right;\n",
       "    }\n",
       "</style>\n",
       "<table border=\"1\" class=\"dataframe\">\n",
       "  <thead>\n",
       "    <tr style=\"text-align: right;\">\n",
       "      <th></th>\n",
       "      <th>first_entry</th>\n",
       "      <th>last_entry</th>\n",
       "      <th>num_entries</th>\n",
       "    </tr>\n",
       "  </thead>\n",
       "  <tbody>\n",
       "    <tr>\n",
       "      <td>0</td>\n",
       "      <td>2015-12-06T18:16:57Z</td>\n",
       "      <td>2020-05-31T04:50:35</td>\n",
       "      <td>1593976</td>\n",
       "    </tr>\n",
       "  </tbody>\n",
       "</table>\n",
       "</div>"
      ],
      "text/plain": [
       "            first_entry           last_entry  num_entries\n",
       "0  2015-12-06T18:16:57Z  2020-05-31T04:50:35      1593976"
      ]
     },
     "execution_count": 8,
     "metadata": {},
     "output_type": "execute_result"
    }
   ],
   "source": [
    "pg1 = gdw_query(pg_query1)\n",
    "sf1 = snow_query(sf_query1)\n",
    "pg1"
   ]
  },
  {
   "cell_type": "code",
   "execution_count": 9,
   "metadata": {},
   "outputs": [
    {
     "data": {
      "text/html": [
       "<div>\n",
       "<style scoped>\n",
       "    .dataframe tbody tr th:only-of-type {\n",
       "        vertical-align: middle;\n",
       "    }\n",
       "\n",
       "    .dataframe tbody tr th {\n",
       "        vertical-align: top;\n",
       "    }\n",
       "\n",
       "    .dataframe thead th {\n",
       "        text-align: right;\n",
       "    }\n",
       "</style>\n",
       "<table border=\"1\" class=\"dataframe\">\n",
       "  <thead>\n",
       "    <tr style=\"text-align: right;\">\n",
       "      <th></th>\n",
       "      <th>FIRST_ENTRY</th>\n",
       "      <th>LAST_ENTRY</th>\n",
       "      <th>NUM_ENTRIES</th>\n",
       "    </tr>\n",
       "  </thead>\n",
       "  <tbody>\n",
       "    <tr>\n",
       "      <td>0</td>\n",
       "      <td>2015-12-06T18:16:57Z</td>\n",
       "      <td>2020-06-11T04:47:30</td>\n",
       "      <td>1717409</td>\n",
       "    </tr>\n",
       "  </tbody>\n",
       "</table>\n",
       "</div>"
      ],
      "text/plain": [
       "            FIRST_ENTRY           LAST_ENTRY  NUM_ENTRIES\n",
       "0  2015-12-06T18:16:57Z  2020-06-11T04:47:30      1717409"
      ]
     },
     "execution_count": 9,
     "metadata": {},
     "output_type": "execute_result"
    }
   ],
   "source": [
    "sf1"
   ]
  },
  {
   "cell_type": "code",
   "execution_count": 10,
   "metadata": {},
   "outputs": [
    {
     "data": {
      "text/html": [
       "<div>\n",
       "<style scoped>\n",
       "    .dataframe tbody tr th:only-of-type {\n",
       "        vertical-align: middle;\n",
       "    }\n",
       "\n",
       "    .dataframe tbody tr th {\n",
       "        vertical-align: top;\n",
       "    }\n",
       "\n",
       "    .dataframe thead th {\n",
       "        text-align: right;\n",
       "    }\n",
       "</style>\n",
       "<table border=\"1\" class=\"dataframe\">\n",
       "  <thead>\n",
       "    <tr style=\"text-align: right;\">\n",
       "      <th></th>\n",
       "      <th>Postgres</th>\n",
       "      <th>Snowflake</th>\n",
       "      <th>is_identical</th>\n",
       "    </tr>\n",
       "  </thead>\n",
       "  <tbody>\n",
       "    <tr>\n",
       "      <td>first_entry</td>\n",
       "      <td>2015-12-06T18:16:57Z</td>\n",
       "      <td>2015-12-06T18:16:57Z</td>\n",
       "      <td>True</td>\n",
       "    </tr>\n",
       "    <tr>\n",
       "      <td>last_entry</td>\n",
       "      <td>2020-05-31T04:50:35</td>\n",
       "      <td>2020-06-11T04:47:30</td>\n",
       "      <td>False</td>\n",
       "    </tr>\n",
       "    <tr>\n",
       "      <td>num_entries</td>\n",
       "      <td>1593976</td>\n",
       "      <td>1717409</td>\n",
       "      <td>False</td>\n",
       "    </tr>\n",
       "  </tbody>\n",
       "</table>\n",
       "</div>"
      ],
      "text/plain": [
       "                         Postgres             Snowflake  is_identical\n",
       "first_entry  2015-12-06T18:16:57Z  2015-12-06T18:16:57Z          True\n",
       "last_entry    2020-05-31T04:50:35   2020-06-11T04:47:30         False\n",
       "num_entries               1593976               1717409         False"
      ]
     },
     "execution_count": 10,
     "metadata": {},
     "output_type": "execute_result"
    }
   ],
   "source": [
    "str_order_metrics = pd.DataFrame(columns=['Postgres', 'Snowflake', 'is_identical'], index=pg1.columns)\n",
    "str_order_metrics['Postgres'] = pg1.T.values\n",
    "str_order_metrics['Snowflake'] = sf1.T.values\n",
    "str_order_metrics['is_identical'] = str_order_metrics['Postgres'] == str_order_metrics['Snowflake']\n",
    "\n",
    "str_order_metrics"
   ]
  },
  {
   "cell_type": "markdown",
   "metadata": {},
   "source": [
    "## Various overall metrics - before March 2020"
   ]
  },
  {
   "cell_type": "code",
   "execution_count": 11,
   "metadata": {},
   "outputs": [
    {
     "data": {
      "text/html": [
       "<div>\n",
       "<style scoped>\n",
       "    .dataframe tbody tr th:only-of-type {\n",
       "        vertical-align: middle;\n",
       "    }\n",
       "\n",
       "    .dataframe tbody tr th {\n",
       "        vertical-align: top;\n",
       "    }\n",
       "\n",
       "    .dataframe thead th {\n",
       "        text-align: right;\n",
       "    }\n",
       "</style>\n",
       "<table border=\"1\" class=\"dataframe\">\n",
       "  <thead>\n",
       "    <tr style=\"text-align: right;\">\n",
       "      <th></th>\n",
       "      <th>first_entry</th>\n",
       "      <th>last_entry</th>\n",
       "      <th>num_entries</th>\n",
       "    </tr>\n",
       "  </thead>\n",
       "  <tbody>\n",
       "    <tr>\n",
       "      <td>0</td>\n",
       "      <td>2015-12-06T18:16:57Z</td>\n",
       "      <td>2020-02-29T03:06:29</td>\n",
       "      <td>738453</td>\n",
       "    </tr>\n",
       "  </tbody>\n",
       "</table>\n",
       "</div>"
      ],
      "text/plain": [
       "            first_entry           last_entry  num_entries\n",
       "0  2015-12-06T18:16:57Z  2020-02-29T03:06:29       738453"
      ]
     },
     "execution_count": 11,
     "metadata": {},
     "output_type": "execute_result"
    }
   ],
   "source": [
    "pg2 = gdw_query(pg_query2)\n",
    "sf2 = snow_query(sf_query2)\n",
    "pg2"
   ]
  },
  {
   "cell_type": "code",
   "execution_count": 12,
   "metadata": {},
   "outputs": [
    {
     "data": {
      "text/html": [
       "<div>\n",
       "<style scoped>\n",
       "    .dataframe tbody tr th:only-of-type {\n",
       "        vertical-align: middle;\n",
       "    }\n",
       "\n",
       "    .dataframe tbody tr th {\n",
       "        vertical-align: top;\n",
       "    }\n",
       "\n",
       "    .dataframe thead th {\n",
       "        text-align: right;\n",
       "    }\n",
       "</style>\n",
       "<table border=\"1\" class=\"dataframe\">\n",
       "  <thead>\n",
       "    <tr style=\"text-align: right;\">\n",
       "      <th></th>\n",
       "      <th>FIRST_ENTRY</th>\n",
       "      <th>LAST_ENTRY</th>\n",
       "      <th>NUM_ENTRIES</th>\n",
       "    </tr>\n",
       "  </thead>\n",
       "  <tbody>\n",
       "    <tr>\n",
       "      <td>0</td>\n",
       "      <td>2015-12-06T18:16:57Z</td>\n",
       "      <td>2020-02-29T03:06:29</td>\n",
       "      <td>738453</td>\n",
       "    </tr>\n",
       "  </tbody>\n",
       "</table>\n",
       "</div>"
      ],
      "text/plain": [
       "            FIRST_ENTRY           LAST_ENTRY  NUM_ENTRIES\n",
       "0  2015-12-06T18:16:57Z  2020-02-29T03:06:29       738453"
      ]
     },
     "execution_count": 12,
     "metadata": {},
     "output_type": "execute_result"
    }
   ],
   "source": [
    "sf2"
   ]
  },
  {
   "cell_type": "code",
   "execution_count": 13,
   "metadata": {},
   "outputs": [
    {
     "data": {
      "text/html": [
       "<div>\n",
       "<style scoped>\n",
       "    .dataframe tbody tr th:only-of-type {\n",
       "        vertical-align: middle;\n",
       "    }\n",
       "\n",
       "    .dataframe tbody tr th {\n",
       "        vertical-align: top;\n",
       "    }\n",
       "\n",
       "    .dataframe thead th {\n",
       "        text-align: right;\n",
       "    }\n",
       "</style>\n",
       "<table border=\"1\" class=\"dataframe\">\n",
       "  <thead>\n",
       "    <tr style=\"text-align: right;\">\n",
       "      <th></th>\n",
       "      <th>Postgres</th>\n",
       "      <th>Snowflake</th>\n",
       "      <th>is_identical</th>\n",
       "    </tr>\n",
       "  </thead>\n",
       "  <tbody>\n",
       "    <tr>\n",
       "      <td>first_entry</td>\n",
       "      <td>2015-12-06T18:16:57Z</td>\n",
       "      <td>2015-12-06T18:16:57Z</td>\n",
       "      <td>True</td>\n",
       "    </tr>\n",
       "    <tr>\n",
       "      <td>last_entry</td>\n",
       "      <td>2020-02-29T03:06:29</td>\n",
       "      <td>2020-02-29T03:06:29</td>\n",
       "      <td>True</td>\n",
       "    </tr>\n",
       "    <tr>\n",
       "      <td>num_entries</td>\n",
       "      <td>738453</td>\n",
       "      <td>738453</td>\n",
       "      <td>True</td>\n",
       "    </tr>\n",
       "  </tbody>\n",
       "</table>\n",
       "</div>"
      ],
      "text/plain": [
       "                         Postgres             Snowflake  is_identical\n",
       "first_entry  2015-12-06T18:16:57Z  2015-12-06T18:16:57Z          True\n",
       "last_entry    2020-02-29T03:06:29   2020-02-29T03:06:29          True\n",
       "num_entries                738453                738453          True"
      ]
     },
     "execution_count": 13,
     "metadata": {},
     "output_type": "execute_result"
    }
   ],
   "source": [
    "str_order_metrics = pd.DataFrame(columns=['Postgres', 'Snowflake', 'is_identical'], index=pg1.columns)\n",
    "str_order_metrics['Postgres'] = pg2.T.values\n",
    "str_order_metrics['Snowflake'] = sf2.T.values\n",
    "str_order_metrics['is_identical'] = str_order_metrics['Postgres'] == str_order_metrics['Snowflake']\n",
    "\n",
    "str_order_metrics"
   ]
  },
  {
   "cell_type": "markdown",
   "metadata": {},
   "source": [
    "## Month-wise number of orders"
   ]
  },
  {
   "cell_type": "code",
   "execution_count": 14,
   "metadata": {},
   "outputs": [
    {
     "data": {
      "text/html": [
       "<div>\n",
       "<style scoped>\n",
       "    .dataframe tbody tr th:only-of-type {\n",
       "        vertical-align: middle;\n",
       "    }\n",
       "\n",
       "    .dataframe tbody tr th {\n",
       "        vertical-align: top;\n",
       "    }\n",
       "\n",
       "    .dataframe thead th {\n",
       "        text-align: right;\n",
       "    }\n",
       "</style>\n",
       "<table border=\"1\" class=\"dataframe\">\n",
       "  <thead>\n",
       "    <tr style=\"text-align: right;\">\n",
       "      <th></th>\n",
       "      <th>which_month</th>\n",
       "      <th>num_entries</th>\n",
       "    </tr>\n",
       "    <tr>\n",
       "      <th>which_month</th>\n",
       "      <th></th>\n",
       "      <th></th>\n",
       "    </tr>\n",
       "  </thead>\n",
       "  <tbody>\n",
       "    <tr>\n",
       "      <td>2015-12-01 00:00:00+00:00</td>\n",
       "      <td>2015-12-01 00:00:00+00:00</td>\n",
       "      <td>43</td>\n",
       "    </tr>\n",
       "    <tr>\n",
       "      <td>2016-01-01 00:00:00+00:00</td>\n",
       "      <td>2016-01-01 00:00:00+00:00</td>\n",
       "      <td>29</td>\n",
       "    </tr>\n",
       "    <tr>\n",
       "      <td>2016-02-01 00:00:00+00:00</td>\n",
       "      <td>2016-02-01 00:00:00+00:00</td>\n",
       "      <td>100</td>\n",
       "    </tr>\n",
       "    <tr>\n",
       "      <td>2016-03-01 00:00:00+00:00</td>\n",
       "      <td>2016-03-01 00:00:00+00:00</td>\n",
       "      <td>112</td>\n",
       "    </tr>\n",
       "    <tr>\n",
       "      <td>2016-04-01 00:00:00+00:00</td>\n",
       "      <td>2016-04-01 00:00:00+00:00</td>\n",
       "      <td>180</td>\n",
       "    </tr>\n",
       "  </tbody>\n",
       "</table>\n",
       "</div>"
      ],
      "text/plain": [
       "                                        which_month  num_entries\n",
       "which_month                                                     \n",
       "2015-12-01 00:00:00+00:00 2015-12-01 00:00:00+00:00           43\n",
       "2016-01-01 00:00:00+00:00 2016-01-01 00:00:00+00:00           29\n",
       "2016-02-01 00:00:00+00:00 2016-02-01 00:00:00+00:00          100\n",
       "2016-03-01 00:00:00+00:00 2016-03-01 00:00:00+00:00          112\n",
       "2016-04-01 00:00:00+00:00 2016-04-01 00:00:00+00:00          180"
      ]
     },
     "execution_count": 14,
     "metadata": {},
     "output_type": "execute_result"
    }
   ],
   "source": [
    "pg3 = gdw_query(pg_query3)\n",
    "pg3.index = pd.to_datetime(pg3.which_month)\n",
    "pg3.head()"
   ]
  },
  {
   "cell_type": "code",
   "execution_count": 15,
   "metadata": {},
   "outputs": [
    {
     "data": {
      "text/html": [
       "<div>\n",
       "<style scoped>\n",
       "    .dataframe tbody tr th:only-of-type {\n",
       "        vertical-align: middle;\n",
       "    }\n",
       "\n",
       "    .dataframe tbody tr th {\n",
       "        vertical-align: top;\n",
       "    }\n",
       "\n",
       "    .dataframe thead th {\n",
       "        text-align: right;\n",
       "    }\n",
       "</style>\n",
       "<table border=\"1\" class=\"dataframe\">\n",
       "  <thead>\n",
       "    <tr style=\"text-align: right;\">\n",
       "      <th></th>\n",
       "      <th>WHICH_MONTH</th>\n",
       "      <th>NUM_ENTRIES</th>\n",
       "    </tr>\n",
       "    <tr>\n",
       "      <th>WHICH_MONTH</th>\n",
       "      <th></th>\n",
       "      <th></th>\n",
       "    </tr>\n",
       "  </thead>\n",
       "  <tbody>\n",
       "    <tr>\n",
       "      <td>2015-12-01 00:00:00+00:00</td>\n",
       "      <td>2015-12-01</td>\n",
       "      <td>43</td>\n",
       "    </tr>\n",
       "    <tr>\n",
       "      <td>2016-01-01 00:00:00+00:00</td>\n",
       "      <td>2016-01-01</td>\n",
       "      <td>29</td>\n",
       "    </tr>\n",
       "    <tr>\n",
       "      <td>2016-02-01 00:00:00+00:00</td>\n",
       "      <td>2016-02-01</td>\n",
       "      <td>100</td>\n",
       "    </tr>\n",
       "    <tr>\n",
       "      <td>2016-03-01 00:00:00+00:00</td>\n",
       "      <td>2016-03-01</td>\n",
       "      <td>112</td>\n",
       "    </tr>\n",
       "    <tr>\n",
       "      <td>2016-04-01 00:00:00+00:00</td>\n",
       "      <td>2016-04-01</td>\n",
       "      <td>180</td>\n",
       "    </tr>\n",
       "  </tbody>\n",
       "</table>\n",
       "</div>"
      ],
      "text/plain": [
       "                          WHICH_MONTH  NUM_ENTRIES\n",
       "WHICH_MONTH                                       \n",
       "2015-12-01 00:00:00+00:00  2015-12-01           43\n",
       "2016-01-01 00:00:00+00:00  2016-01-01           29\n",
       "2016-02-01 00:00:00+00:00  2016-02-01          100\n",
       "2016-03-01 00:00:00+00:00  2016-03-01          112\n",
       "2016-04-01 00:00:00+00:00  2016-04-01          180"
      ]
     },
     "execution_count": 15,
     "metadata": {},
     "output_type": "execute_result"
    }
   ],
   "source": [
    "sf3 = snow_query(sf_query3)\n",
    "sf3.index = pd.to_datetime(sf3['WHICH_MONTH'], utc=True)\n",
    "sf3.head()"
   ]
  },
  {
   "cell_type": "code",
   "execution_count": 16,
   "metadata": {},
   "outputs": [
    {
     "data": {
      "text/html": [
       "<div>\n",
       "<style scoped>\n",
       "    .dataframe tbody tr th:only-of-type {\n",
       "        vertical-align: middle;\n",
       "    }\n",
       "\n",
       "    .dataframe tbody tr th {\n",
       "        vertical-align: top;\n",
       "    }\n",
       "\n",
       "    .dataframe thead th {\n",
       "        text-align: right;\n",
       "    }\n",
       "</style>\n",
       "<table border=\"1\" class=\"dataframe\">\n",
       "  <thead>\n",
       "    <tr style=\"text-align: right;\">\n",
       "      <th></th>\n",
       "      <th>Postgres</th>\n",
       "      <th>Snowflake</th>\n",
       "      <th>is_identical</th>\n",
       "    </tr>\n",
       "    <tr>\n",
       "      <th>Month</th>\n",
       "      <th></th>\n",
       "      <th></th>\n",
       "      <th></th>\n",
       "    </tr>\n",
       "  </thead>\n",
       "  <tbody>\n",
       "    <tr>\n",
       "      <td>2015-12-01 00:00:00+00:00</td>\n",
       "      <td>43</td>\n",
       "      <td>43</td>\n",
       "      <td>True</td>\n",
       "    </tr>\n",
       "    <tr>\n",
       "      <td>2016-01-01 00:00:00+00:00</td>\n",
       "      <td>29</td>\n",
       "      <td>29</td>\n",
       "      <td>True</td>\n",
       "    </tr>\n",
       "    <tr>\n",
       "      <td>2016-02-01 00:00:00+00:00</td>\n",
       "      <td>100</td>\n",
       "      <td>100</td>\n",
       "      <td>True</td>\n",
       "    </tr>\n",
       "    <tr>\n",
       "      <td>2016-03-01 00:00:00+00:00</td>\n",
       "      <td>112</td>\n",
       "      <td>112</td>\n",
       "      <td>True</td>\n",
       "    </tr>\n",
       "    <tr>\n",
       "      <td>2016-04-01 00:00:00+00:00</td>\n",
       "      <td>180</td>\n",
       "      <td>180</td>\n",
       "      <td>True</td>\n",
       "    </tr>\n",
       "  </tbody>\n",
       "</table>\n",
       "</div>"
      ],
      "text/plain": [
       "                           Postgres  Snowflake  is_identical\n",
       "Month                                                       \n",
       "2015-12-01 00:00:00+00:00        43         43          True\n",
       "2016-01-01 00:00:00+00:00        29         29          True\n",
       "2016-02-01 00:00:00+00:00       100        100          True\n",
       "2016-03-01 00:00:00+00:00       112        112          True\n",
       "2016-04-01 00:00:00+00:00       180        180          True"
      ]
     },
     "execution_count": 16,
     "metadata": {},
     "output_type": "execute_result"
    }
   ],
   "source": [
    "str_order_monthwise= pd.DataFrame(columns=['Postgres', 'Snowflake', 'is_identical'], index=pg3.index)\n",
    "str_order_monthwise.index.name = 'Month'\n",
    "str_order_monthwise['Postgres'] = pg3['num_entries']\n",
    "str_order_monthwise['Snowflake'] = sf3['NUM_ENTRIES']\n",
    "str_order_monthwise['is_identical'] = str_order_monthwise.Postgres == str_order_monthwise.Snowflake\n",
    "\n",
    "str_order_monthwise.head()"
   ]
  },
  {
   "cell_type": "code",
   "execution_count": 17,
   "metadata": {},
   "outputs": [
    {
     "data": {
      "text/html": [
       "<div>\n",
       "<style scoped>\n",
       "    .dataframe tbody tr th:only-of-type {\n",
       "        vertical-align: middle;\n",
       "    }\n",
       "\n",
       "    .dataframe tbody tr th {\n",
       "        vertical-align: top;\n",
       "    }\n",
       "\n",
       "    .dataframe thead th {\n",
       "        text-align: right;\n",
       "    }\n",
       "</style>\n",
       "<table border=\"1\" class=\"dataframe\">\n",
       "  <thead>\n",
       "    <tr style=\"text-align: right;\">\n",
       "      <th></th>\n",
       "      <th>Postgres</th>\n",
       "      <th>Snowflake</th>\n",
       "      <th>is_identical</th>\n",
       "    </tr>\n",
       "    <tr>\n",
       "      <th>Month</th>\n",
       "      <th></th>\n",
       "      <th></th>\n",
       "      <th></th>\n",
       "    </tr>\n",
       "  </thead>\n",
       "  <tbody>\n",
       "  </tbody>\n",
       "</table>\n",
       "</div>"
      ],
      "text/plain": [
       "Empty DataFrame\n",
       "Columns: [Postgres, Snowflake, is_identical]\n",
       "Index: []"
      ]
     },
     "execution_count": 17,
     "metadata": {},
     "output_type": "execute_result"
    }
   ],
   "source": [
    "str_order_monthwise[str_order_monthwise['is_identical']!= True]"
   ]
  }
 ],
 "metadata": {
  "kernelspec": {
   "display_name": "Python 3",
   "language": "python",
   "name": "python3"
  },
  "language_info": {
   "codemirror_mode": {
    "name": "ipython",
    "version": 3
   },
   "file_extension": ".py",
   "mimetype": "text/x-python",
   "name": "python",
   "nbconvert_exporter": "python",
   "pygments_lexer": "ipython3",
   "version": "3.7.4"
  }
 },
 "nbformat": 4,
 "nbformat_minor": 4
}
